{
 "cells": [
  {
   "cell_type": "code",
   "execution_count": 1,
   "metadata": {},
   "outputs": [],
   "source": [
    "#Importando bibliotecas\n",
    "import pandas as pd\n",
    "from datetime import datetime\n",
    "import matplotlib.pyplot as plt"
   ]
  },
  {
   "cell_type": "code",
   "execution_count": 2,
   "metadata": {},
   "outputs": [],
   "source": [
    "def readDataSet(nome):\n",
    "    dataSet = pd.read_csv(\"PredictedData[Estimada]/\" + nome + \".csv\")\n",
    "    dataSet[\"Data\"] = pd.to_datetime(dataSet[\"Data\"])\n",
    "    return dataSet"
   ]
  },
  {
   "cell_type": "code",
   "execution_count": 3,
   "metadata": {},
   "outputs": [],
   "source": [
    "nomesTempMax = [\"TempMaxAracaju\",\"TempMaxBelém\",\"TempMaxBelo Horizonte\",\"TempMaxBoa Vista\",\"TempMaxCuiabá\",\"TempMaxCuritiba\",\n",
    "                \"TempMaxFlorianópolis\",\"TempMaxFortaleza\",\"TempMaxGoiânia\",\"TempMaxJoão Pessoa\",\"TempMaxMacapá\",\"TempMaxMaceió\",\n",
    "                \"TempMaxManaus\",\"TempMaxNatal\",\"TempMaxPalmas\",\"TempMaxPorto Alegre\",\"TempMaxRecife\",\"TempMaxRio Branco\",\"TempMaxRio de Janeiro\",\n",
    "                \"TempMaxSalvador\",\"TempMaxSão Luis\",\"TempMaxSão Paulo\",\"TempMaxTeresina\",\"TempMaxVitória\"]"
   ]
  },
  {
   "cell_type": "code",
   "execution_count": 8,
   "metadata": {},
   "outputs": [],
   "source": [
    "def calcularMediaTempMaxMensal(nome):\n",
    "    dataSet = readDataSet(nome)\n",
    "    dataFrameCalculado = pd.DataFrame(columns = [\"Data\", \"TempMaxPrevista\"])\n",
    "    mesAux = dataSet.loc[0, \"Data\"].month\n",
    "    anoAux = dataSet.loc[0, \"Data\"].year\n",
    "    dias = 0\n",
    "    tempMaxAcumuladaPrevista = 0\n",
    "    for i, rows in dataSet.iterrows():\n",
    "        if rows[\"Data\"].month == mesAux and rows[\"Data\"]:\n",
    "            dias = dias + 1\n",
    "            tempMaxAcumuladaPrevista = tempMaxAcumuladaPrevista + rows[\"TempMaxPrevista\"]\n",
    "        else:\n",
    "            provData = str(mesAux) + \"/\" + str(anoAux)\n",
    "            provTempMaxPrevista = tempMaxAcumuladaPrevista / dias\n",
    "            prov = pd.DataFrame([[provData, provTempMaxPrevista]], columns = [\"Data\", \"TempMaxPrevista\"])\n",
    "            dataFrameCalculado = pd.concat([dataFrameCalculado, prov], ignore_index= True)  \n",
    "            dias = 1\n",
    "            tempMaxAcumuladaPrevista = rows[\"TempMaxPrevista\"]\n",
    "            mesAux = rows[\"Data\"].month\n",
    "            anoAux = rows[\"Data\"].year\n",
    "    provData = str(mesAux) + \"/\" + str(anoAux)\n",
    "    provTempMaxPrevista = tempMaxAcumuladaPrevista / dias\n",
    "    prov = pd.DataFrame([[provData, provTempMaxPrevista]], columns = [\"Data\", \"TempMaxPrevista\"])\n",
    "    dataFrameCalculado = pd.concat([dataFrameCalculado, prov], ignore_index= True)\n",
    "    dataFrameCalculado.to_csv(path_or_buf = \"MediaMensal[Estimada]/\" + nome + \".csv\", sep=',')\n",
    "    return dataFrameCalculado"
   ]
  },
  {
   "cell_type": "code",
   "execution_count": 9,
   "metadata": {},
   "outputs": [],
   "source": [
    "for i in nomesTempMax:\n",
    "    calcularMediaTempMaxMensal(i)"
   ]
  },
  {
   "cell_type": "code",
   "execution_count": 10,
   "metadata": {},
   "outputs": [],
   "source": [
    "nomesTempMin = [\"TempMinAracaju\",\"TempMinBelém\",\"TempMinBelo Horizonte\",\"TempMinBoa Vista\",\"TempMinCuiabá\",\"TempMinCuritiba\",\n",
    "                \"TempMinFlorianópolis\",\"TempMinFortaleza\",\"TempMinGoiânia\",\"TempMinJoão Pessoa\",\"TempMinMacapá\",\n",
    "                \"TempMinMaceió\",\"TempMinManaus\",\"TempMinNatal\",\"TempMinPalmas\",\"TempMinPorto Alegre\",\"TempMinRecife\",\n",
    "                \"TempMinRio Branco\",\"TempMinRio de Janeiro\",\"TempMinSalvador\",\"TempMinSão Luis\",\"TempMinSão Paulo\",\n",
    "                \"TempMinTeresina\",\"TempMinVitória\"]"
   ]
  },
  {
   "cell_type": "code",
   "execution_count": null,
   "metadata": {},
   "outputs": [],
   "source": [
    "def calcularMediaTempMinMensal(nome):\n",
    "    dataSet = readDataSet(nome)\n",
    "    dataFrameCalculado = pd.DataFrame(columns = [\"Data\", \"TempMinPrevista\"])\n",
    "    mesAux = dataSet.loc[0, \"Data\"].month\n",
    "    anoAux = dataSet.loc[0, \"Data\"].year\n",
    "    dias = 0\n",
    "    tempMinAcumuladaPrevista = 0\n",
    "    for i, rows in dataSet.iterrows():\n",
    "        if rows[\"Data\"].month == mesAux:\n",
    "            dias = dias + 1\n",
    "            tempMinAcumuladaPrevista = tempMinAcumuladaPrevista + rows[\"TempMinPrevista\"]\n",
    "        else:\n",
    "            provData = str(mesAux) + \"/\" + str(anoAux)\n",
    "            provTempMinPrevista = tempMinAcumuladaPrevista / dias\n",
    "            prov = pd.DataFrame([[provData, provTempMinPrevista]], columns = [\"Data\", \"TempMinPrevista\"])\n",
    "            dataFrameCalculado = pd.concat([dataFrameCalculado, prov], ignore_index= True)  \n",
    "            dias = 1\n",
    "            tempMinAcumuladaPrevista = rows[\"TempMinPrevista\"]\n",
    "            mesAux = rows[\"Data\"].month\n",
    "            anoAux = rows[\"Data\"].year\n",
    "    provData = str(mesAux) + \"/\" + str(anoAux)\n",
    "    provTempMinPrevista = tempMinAcumuladaPrevista / dias\n",
    "    prov = pd.DataFrame([[provData, provTempMinPrevista]], columns = [\"Data\", \"TempMinPrevista\"])\n",
    "    dataFrameCalculado = pd.concat([dataFrameCalculado, prov], ignore_index= True)\n",
    "    dataFrameCalculado.to_csv(path_or_buf = \"MediaMensal/\" + nome + \".csv\", sep=',')\n",
    "    return dataFrameCalculado"
   ]
  },
  {
   "cell_type": "code",
   "execution_count": null,
   "metadata": {},
   "outputs": [],
   "source": [
    "for i in nomesTempMin:\n",
    "    calcularMediaTempMinMensal(i)"
   ]
  }
 ],
 "metadata": {
  "kernelspec": {
   "display_name": "Python 3",
   "language": "python",
   "name": "python3"
  },
  "language_info": {
   "codemirror_mode": {
    "name": "ipython",
    "version": 3
   },
   "file_extension": ".py",
   "mimetype": "text/x-python",
   "name": "python",
   "nbconvert_exporter": "python",
   "pygments_lexer": "ipython3",
   "version": "3.6.8"
  }
 },
 "nbformat": 4,
 "nbformat_minor": 2
}
