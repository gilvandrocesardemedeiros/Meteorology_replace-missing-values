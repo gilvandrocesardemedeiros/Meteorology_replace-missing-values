{
 "cells": [
  {
   "cell_type": "code",
   "execution_count": 1,
   "metadata": {},
   "outputs": [],
   "source": [
    "import pandas as pd\n",
    "import numpy as np"
   ]
  },
  {
   "cell_type": "code",
   "execution_count": 2,
   "metadata": {},
   "outputs": [],
   "source": [
    "cidades = [\"Aracaju\",\"Belém\",\"Belo Horizonte\",\"Boa Vista\",\"Cuiabá\",\"Curitiba\",\n",
    "                \"Florianópolis\",\"Fortaleza\",\"Goiânia\",\"João Pessoa\",\"Macapá\",\"Maceió\",\n",
    "                \"Manaus\",\"Natal\",\"Palmas\",\"Porto Alegre\",\"Recife\",\"Rio Branco\",\"Rio de Janeiro\",\n",
    "                \"Salvador\",\"São Luis\",\"São Paulo\",\"Teresina\",\"Vitória\"]"
   ]
  },
  {
   "cell_type": "code",
   "execution_count": 3,
   "metadata": {},
   "outputs": [],
   "source": [
    "def readData(cidade):\n",
    "    dadosInmetTempMax = pd.read_csv(\"MediaMensal[Comparada]/TempMax\" + cidade + \".csv\").drop(columns = \"Unnamed: 0\").set_index(\"Data\")[[\"TempMaxINMET\",\"NumDias\"]]\n",
    "    dadosInmetTempMax.columns = [\"TempMaxINMET\",\"NumDiasTempMaxINMET\"]\n",
    "    dadosInmetTempMin = pd.read_csv(\"MediaMensal[Comparada]/TempMin\" + cidade + \".csv\").drop(columns = \"Unnamed: 0\").set_index(\"Data\")[[\"TempMinINMET\",\"NumDias\"]]\n",
    "    dadosInmetTempMin.columns = [\"TempMinINMET\",\"NumDiasTempMinINMET\"]\n",
    "    dadosRNATempMax = pd.read_csv(\"MediaMensal[Estimada]/TempMax\" + cidade + \".csv\").drop(columns = \"Unnamed: 0\").set_index(\"Data\")\n",
    "    dadosRNATempMin = pd.read_csv(\"MediaMensal[Estimada]/TempMin\" + cidade + \".csv\").drop(columns = \"Unnamed: 0\").set_index(\"Data\")\n",
    "    dados = dadosRNATempMax.join(dadosRNATempMin).join(dadosInmetTempMax).join(dadosInmetTempMin)\n",
    "    dados[\"TempMaxCorrigida\"] = dados[\"TempMaxINMET\"]\n",
    "    dados[\"TempMinCorrigida\"] = dados[\"TempMinINMET\"]\n",
    "    for i, row in dados.iterrows():\n",
    "        if np.isnan(row[\"TempMaxCorrigida\"]):\n",
    "            dados.loc[i, \"TempMaxCorrigida\"] = row[\"TempMaxPrevista\"]\n",
    "        if np.isnan(row[\"TempMinCorrigida\"]):\n",
    "            dados.loc[i, \"TempMinCorrigida\"] = row[\"TempMinPrevista\"]\n",
    "    dados.to_csv(path_or_buf = \"Preenchimento-de-falhas/\" + cidade + \".csv\", sep=',')\n",
    "    return dados"
   ]
  },
  {
   "cell_type": "code",
   "execution_count": 4,
   "metadata": {},
   "outputs": [],
   "source": [
    "for i in cidades:\n",
    "    readData(i)"
   ]
  }
 ],
 "metadata": {
  "kernelspec": {
   "display_name": "Python 3",
   "language": "python",
   "name": "python3"
  },
  "language_info": {
   "codemirror_mode": {
    "name": "ipython",
    "version": 3
   },
   "file_extension": ".py",
   "mimetype": "text/x-python",
   "name": "python",
   "nbconvert_exporter": "python",
   "pygments_lexer": "ipython3",
   "version": "3.6.8"
  }
 },
 "nbformat": 4,
 "nbformat_minor": 2
}
