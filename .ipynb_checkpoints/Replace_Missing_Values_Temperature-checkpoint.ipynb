{
 "cells": [
  {
   "cell_type": "code",
   "execution_count": null,
   "metadata": {
    "colab": {},
    "colab_type": "code",
    "id": "27ZehESHNz63"
   },
   "outputs": [],
   "source": [
    "#Importando bibliotecas\n",
    "import pandas as pd\n",
    "import numpy as np\n",
    "from datetime import datetime\n",
    "from keras.models import Sequential\n",
    "from keras.layers import Dense\n",
    "from keras.wrappers.scikit_learn import KerasRegressor\n",
    "from sklearn.metrics import mean_absolute_error\n",
    "from sklearn.metrics import mean_squared_error\n",
    "from sklearn.model_selection import KFold\n",
    "from sklearn.model_selection import GridSearchCV\n",
    "from sklearn.model_selection import train_test_split\n",
    "from sklearn.preprocessing import MinMaxScaler\n",
    "import matplotlib.pyplot as plt\n",
    "import pickle"
   ]
  },
  {
   "cell_type": "code",
   "execution_count": null,
   "metadata": {
    "colab": {},
    "colab_type": "code",
    "id": "luAOhXWRbNSl"
   },
   "outputs": [],
   "source": [
    "aracajuData = pd.read_csv(\"https://raw.githubusercontent.com/gilvandrocesardemedeiros/Meteorology_replace-missing-values/master/DadosDiarios/aracajudiario.csv\",\n",
    "                      sep=';',skiprows=16)"
   ]
  },
  {
   "cell_type": "code",
   "execution_count": null,
   "metadata": {
    "colab": {},
    "colab_type": "code",
    "id": "U2KZogNEbFyE"
   },
   "outputs": [],
   "source": [
    "#Transformando data em variável do tipo datetime\n",
    "aracajuData[\"Data\"] = pd.to_datetime(aracajuData[\"Data\"], format = \"%d/%m/%Y\")"
   ]
  },
  {
   "cell_type": "code",
   "execution_count": null,
   "metadata": {
    "colab": {
     "base_uri": "https://localhost:8080/",
     "height": 355
    },
    "colab_type": "code",
    "id": "50HIjpA1b_Tz",
    "outputId": "44cf4dc0-ffa9-4696-cf6f-d4afdb07da12"
   },
   "outputs": [],
   "source": [
    "aracajuData.describe()"
   ]
  },
  {
   "cell_type": "code",
   "execution_count": null,
   "metadata": {
    "colab": {
     "base_uri": "https://localhost:8080/",
     "height": 241
    },
    "colab_type": "code",
    "id": "4Q7RdptNNz8A",
    "outputId": "946000b0-5c30-4d6a-805f-52fb722cc57a"
   },
   "outputs": [],
   "source": [
    "#Verificando dados\n",
    "aracajuData.head()"
   ]
  },
  {
   "cell_type": "code",
   "execution_count": null,
   "metadata": {},
   "outputs": [],
   "source": [
    "dataInicial = datetime.datetime.strptime('1980-01-01', '%Y-%m-%d')\n",
    "dataFinal = datetime.datetime.strptime('2017-12-31', '%Y-%m-%d') \n",
    "tempo = datetime.timedelta(days=1)"
   ]
  },
  {
   "cell_type": "code",
   "execution_count": null,
   "metadata": {
    "colab": {},
    "colab_type": "code",
    "id": "w7vRJrsVfUQq"
   },
   "outputs": [],
   "source": [
    "aracajuData = aracajuData.set_index(\"Data\")"
   ]
  },
  {
   "cell_type": "code",
   "execution_count": null,
   "metadata": {
    "colab": {},
    "colab_type": "code",
    "id": "Bljp6tdBNz8e"
   },
   "outputs": [],
   "source": [
    "#Separando os dados em dois dataframes, um para as 00:00 h e outro para as 12:00 h\n",
    "aracajuData00, aracajuData12 = aracajuData[aracajuData[\"Hora\"] == 0], aracajuData[aracajuData[\"Hora\"] == 1200]"
   ]
  },
  {
   "cell_type": "code",
   "execution_count": null,
   "metadata": {
    "colab": {},
    "colab_type": "code",
    "id": "VS2cw3HfcxPt"
   },
   "outputs": [],
   "source": [
    "#Descartando a coluna \"Hora\"\n",
    "aracajuData00, aracajuData12 = aracajuData00.drop(columns = [\"Hora\", \"Estacao\", \"Unnamed: 11\"]), aracajuData12.drop(columns = [\"Hora\", \"Estacao\", \"Unnamed: 11\"])"
   ]
  },
  {
   "cell_type": "code",
   "execution_count": null,
   "metadata": {
    "colab": {
     "base_uri": "https://localhost:8080/",
     "height": 255
    },
    "colab_type": "code",
    "id": "2bh8K6NANz8r",
    "outputId": "23b84d56-5cee-4e45-eb65-2cafe06b56f5"
   },
   "outputs": [],
   "source": [
    "#Verificando dataframe para os dados disponibilizados às 00:00 h\n",
    "aracajuData00.head()"
   ]
  },
  {
   "cell_type": "code",
   "execution_count": null,
   "metadata": {
    "colab": {
     "base_uri": "https://localhost:8080/",
     "height": 255
    },
    "colab_type": "code",
    "id": "edBEOHdPNz9B",
    "outputId": "ae11f57a-366d-4afb-d6d5-0453b8a34034"
   },
   "outputs": [],
   "source": [
    "#Verificando dataframe para os dados disponibilizados às 12:00 h\n",
    "aracajuData12.head()"
   ]
  },
  {
   "cell_type": "code",
   "execution_count": null,
   "metadata": {
    "colab": {
     "base_uri": "https://localhost:8080/",
     "height": 347
    },
    "colab_type": "code",
    "id": "EOtr9pK5Nz99",
    "outputId": "9e4a26c7-830c-4b6a-f406-fb42f64c6011"
   },
   "outputs": [],
   "source": [
    "#Juntando os dados em um mesmo dataframe (no caso, o dataSet00)\n",
    "for i in aracajuData00.index:\n",
    "  try:\n",
    "    aracajuData00[\"Precipitacao\"].loc[i] = aracajuData12[\"Precipitacao\"].loc[i]\n",
    "    aracajuData00[\"TempMinima\"].loc[i] = aracajuData12[\"TempMinima\"].loc[i]\n",
    "  except:\n",
    "    print(\"Data \" + str(i.day) + \"/\" + str(i.month) + \"/\" + str(i.year) + \" Não encontrada!\")"
   ]
  },
  {
   "cell_type": "code",
   "execution_count": null,
   "metadata": {
    "colab": {
     "base_uri": "https://localhost:8080/",
     "height": 318
    },
    "colab_type": "code",
    "id": "ZkvEVq8aNz-M",
    "outputId": "622ea486-2dfc-4498-bffe-91807a431ef6"
   },
   "outputs": [],
   "source": [
    "#Atribuindo à variável dataSet o DataFrame atualizado\n",
    "aracajuData = aracajuData00\n",
    "#Verificando DataFrame\n",
    "aracajuData.describe()"
   ]
  },
  {
   "cell_type": "code",
   "execution_count": null,
   "metadata": {
    "colab": {},
    "colab_type": "code",
    "id": "HEjCj_jNi_7T"
   },
   "outputs": [],
   "source": [
    "aracajuData[\"Mes\"] = aracajuData.index.month"
   ]
  },
  {
   "cell_type": "code",
   "execution_count": null,
   "metadata": {
    "colab": {},
    "colab_type": "code",
    "id": "jBsDkedfcZ_h"
   },
   "outputs": [],
   "source": [
    "#Transformando a coluna Data de volta em uma coluna de informações do dataSet\n",
    "aracajuData = aracajuData.reset_index(drop = True)"
   ]
  },
  {
   "cell_type": "code",
   "execution_count": null,
   "metadata": {
    "colab": {
     "base_uri": "https://localhost:8080/",
     "height": 206
    },
    "colab_type": "code",
    "id": "UbW5mMKJcojI",
    "outputId": "c9becf4e-93de-44ad-8123-a987404ba05f"
   },
   "outputs": [],
   "source": [
    "aracajuData.head()"
   ]
  },
  {
   "cell_type": "code",
   "execution_count": null,
   "metadata": {
    "colab": {
     "base_uri": "https://localhost:8080/",
     "height": 2009
    },
    "colab_type": "code",
    "id": "XAkzBJk1jvPD",
    "outputId": "99cb0c3f-3806-498b-c17c-ea14bd7208de"
   },
   "outputs": [],
   "source": [
    "aracajuData = aracajuData.dropna(subset = [\"TempMaxima\"])"
   ]
  },
  {
   "cell_type": "code",
   "execution_count": null,
   "metadata": {
    "colab": {},
    "colab_type": "code",
    "id": "cWsOQWadAsGG"
   },
   "outputs": [],
   "source": [
    "#Separando a variável que será prevista, TempMaxima, da base de dados\n",
    "tempMaxAracaju = aracajuData[\"TempMaxima\"]\n",
    "aracajuData = aracajuData.drop(columns = \"TempMaxima\")"
   ]
  },
  {
   "cell_type": "code",
   "execution_count": null,
   "metadata": {
    "colab": {
     "base_uri": "https://localhost:8080/",
     "height": 206
    },
    "colab_type": "code",
    "id": "Y2eHNMUbET06",
    "outputId": "14144ffe-154b-4822-ae30-f495ea93169b"
   },
   "outputs": [],
   "source": [
    "#Visualizando dados\n",
    "aracajuData.head()"
   ]
  },
  {
   "cell_type": "code",
   "execution_count": null,
   "metadata": {},
   "outputs": [],
   "source": [
    "tempMaxAracaju.head()"
   ]
  },
  {
   "cell_type": "code",
   "execution_count": null,
   "metadata": {},
   "outputs": [],
   "source": [
    "colunas = aracajuData.columns"
   ]
  },
  {
   "cell_type": "code",
   "execution_count": null,
   "metadata": {
    "colab": {},
    "colab_type": "code",
    "id": "zcB-8-0njm4Y"
   },
   "outputs": [],
   "source": [
    "#Efetuando uma transformação robusta, trabalhando com os dados entre os percentis 10 e 90\n",
    "mms = MinMaxScaler(feature_range=(-1, 1))\n",
    "aracajuData = mms.fit_transform(aracajuData)"
   ]
  },
  {
   "cell_type": "code",
   "execution_count": null,
   "metadata": {
    "colab": {
     "base_uri": "https://localhost:8080/",
     "height": 167
    },
    "colab_type": "code",
    "id": "x9LE5w9AkH_q",
    "outputId": "3494e03e-5bfe-4cc5-cf06-f4ed90302738"
   },
   "outputs": [],
   "source": [
    "prov = pd.DataFrame(aracajuData)\n",
    "prov.columns = colunas\n",
    "prov.describe()"
   ]
  },
  {
   "cell_type": "code",
   "execution_count": null,
   "metadata": {
    "colab": {},
    "colab_type": "code",
    "id": "lkLDSlvMJ_r5"
   },
   "outputs": [],
   "source": [
    "#Trocando dados faltantes por 0\n",
    "aracajuData = np.nan_to_num(aracajuData, copy = False)"
   ]
  },
  {
   "cell_type": "code",
   "execution_count": null,
   "metadata": {
    "colab": {
     "base_uri": "https://localhost:8080/",
     "height": 34
    },
    "colab_type": "code",
    "id": "kMFGTMz8Kl75",
    "outputId": "0804f9a7-f51d-40cd-98ce-f0041d36bf37"
   },
   "outputs": [],
   "source": [
    "#Verificando dimensões do dataSet\n",
    "print(aracajuData.shape)"
   ]
  },
  {
   "cell_type": "code",
   "execution_count": null,
   "metadata": {
    "colab": {},
    "colab_type": "code",
    "id": "z-Gj0o_wnAHf"
   },
   "outputs": [],
   "source": [
    "#Separando conjunto de treino e teste\n",
    "X_train, X_test, Y_train, Y_test = train_test_split(aracajuData, tempMaxAracaju, test_size = 0.1, random_state = 9)"
   ]
  },
  {
   "cell_type": "code",
   "execution_count": null,
   "metadata": {},
   "outputs": [],
   "source": [
    "#Definindo uma função para criar a MLP\n",
    "def trainMLP(optimizer='adam', init='random_uniform', units = 8, camadas = 2):    \n",
    "  #Criando o modelo\n",
    "  mlp = Sequential()\n",
    "  #Adicionando a camada de entrada\n",
    "  mlp.add(Dense(activation = 'tanh', input_dim = units, units = units, kernel_initializer = init, bias_initializer='zeros'))\n",
    "  #Adicionando as camadas escondidas\n",
    "  for i in range(camadas):\n",
    "    mlp.add(Dense(activation = 'tanh', units = units, kernel_initializer = init, bias_initializer='zeros'))\n",
    "  #Adicionando a camada de saída\n",
    "  mlp.add(Dense(units = 1, kernel_initializer = init, bias_initializer='zeros'))    \n",
    "  # Compilando o modelo\n",
    "  mlp.compile(loss='mean_squared_error', optimizer = optimizer, metrics= ['mae'])\n",
    "  return mlp"
   ]
  },
  {
   "cell_type": "code",
   "execution_count": null,
   "metadata": {
    "colab": {},
    "colab_type": "code",
    "id": "eqVxoZwYVAaJ"
   },
   "outputs": [],
   "source": [
    "#Modelo de classificação do Keras\n",
    "estimator = KerasRegressor(build_fn=trainMLP, epochs = 200, verbose = 2)"
   ]
  },
  {
   "cell_type": "code",
   "execution_count": null,
   "metadata": {
    "colab": {},
    "colab_type": "code",
    "id": "wGupNX3XU_kO"
   },
   "outputs": [],
   "source": [
    "#Criando o objeto para Cross Validation\n",
    "kfold = KFold(n_splits=4, shuffle=True, random_state=5)"
   ]
  },
  {
   "cell_type": "code",
   "execution_count": null,
   "metadata": {
    "colab": {},
    "colab_type": "code",
    "id": "MQlUXb3SE7O-"
   },
   "outputs": [],
   "source": [
    "#Parâmetros para o Grid Search\n",
    "#Adicionando e alterando parâmetros neste dicionário, pode-se aumentar ou diminuir a quantidade de parâmetros a serem testados na modelagem\n",
    "parameters = {'batch_size': [10],             \n",
    "              'camadas': [2],\n",
    "              'units': [8]}"
   ]
  },
  {
   "cell_type": "code",
   "execution_count": null,
   "metadata": {
    "colab": {},
    "colab_type": "code",
    "id": "uyU0TuUjOacd"
   },
   "outputs": [],
   "source": [
    "#Modelagem para buscar os melhores parâmetros\n",
    "#Por limitações de poder de processamento, retirou-se o n_jobs = -1 dos parâmetros do Grid Search\n",
    "grid_search = GridSearchCV(estimator = estimator, param_grid = parameters, \n",
    "                     scoring = \"neg_mean_squared_error\", verbose=500, cv = kfold, return_train_score = True)"
   ]
  },
  {
   "cell_type": "code",
   "execution_count": null,
   "metadata": {
    "colab": {
     "base_uri": "https://localhost:8080/",
     "height": 854
    },
    "colab_type": "code",
    "id": "M0yrJYODR7kb",
    "outputId": "872c386d-9daf-4d45-8009-42411bdab523"
   },
   "outputs": [],
   "source": [
    "#Busca pelos melhores parâmetros\n",
    "grid_result = grid_search.fit(X_train, Y_train)"
   ]
  },
  {
   "cell_type": "code",
   "execution_count": null,
   "metadata": {
    "colab": {
     "base_uri": "https://localhost:8080/",
     "height": 243
    },
    "colab_type": "code",
    "id": "niuNkZazQT5L",
    "outputId": "058a02f9-ecd2-4c0a-e86b-09cec848c4b2"
   },
   "outputs": [],
   "source": [
    "#Exibição dos melhores resultados\n",
    "print(\"Melhor resultado: %f, usando %s\" % (grid_result.best_score_, grid_result.best_params_))\n",
    "means = grid_result.cv_results_['mean_test_score']\n",
    "stds = grid_result.cv_results_['std_test_score']\n",
    "params = grid_result.cv_results_['params']\n",
    "print(\"Resultados (Desvio padrão) {Parâmetros}\")\n",
    "for mean, stdev, param in zip(means, stds, params):\n",
    "\tprint(\"%f (%f) %r\" % (mean, stdev, param))"
   ]
  },
  {
   "cell_type": "code",
   "execution_count": null,
   "metadata": {
    "colab": {
     "base_uri": "https://localhost:8080/",
     "height": 286
    },
    "colab_type": "code",
    "id": "_u6GdTGCDe4C",
    "outputId": "f9b434ab-f0db-4854-d911-f975608e5ed7"
   },
   "outputs": [],
   "source": [
    "#Gráfico de previsão para o conjunto de treino\n",
    "plt.scatter(grid_search.predict(X_train), Y_train)"
   ]
  },
  {
   "cell_type": "code",
   "execution_count": null,
   "metadata": {
    "colab": {
     "base_uri": "https://localhost:8080/",
     "height": 52
    },
    "colab_type": "code",
    "id": "odMh7NI5A413",
    "outputId": "6b4aeb92-453c-4b11-9b8d-9629a1010298"
   },
   "outputs": [],
   "source": [
    "#Gráfico de previsão para o conjunto de treino normalizado\n",
    "plt.scatter(grid_search.predict(X_train) / max(grid_search.predict(X_train)), Y_train / max(Y_train))"
   ]
  },
  {
   "cell_type": "code",
   "execution_count": null,
   "metadata": {
    "colab": {},
    "colab_type": "code",
    "id": "BCuUY6uhOrOo"
   },
   "outputs": [],
   "source": [
    "#Mostrando uma matriz de correlação das variáveis com a melhor modelagem\n",
    "print(np.corrcoef(Y_train, grid_search.predict(X_train)))"
   ]
  },
  {
   "cell_type": "code",
   "execution_count": null,
   "metadata": {},
   "outputs": [],
   "source": [
    "#Previsão com base no resultado da Grid Search\n",
    "Y_pred = grid_search.predict(X_test)"
   ]
  },
  {
   "cell_type": "code",
   "execution_count": null,
   "metadata": {},
   "outputs": [],
   "source": [
    "#Gráfico que mostra a relação entre ROP real e ROP previsto\n",
    "plt.scatter(Y_test, Y_pred)"
   ]
  },
  {
   "cell_type": "code",
   "execution_count": null,
   "metadata": {},
   "outputs": [],
   "source": [
    "#Gráfico normalizado que mostra a relação entre a chuva real e a prevista\n",
    "plt.scatter(Y_test / max(Y_test), Y_pred / max(Y_pred))"
   ]
  },
  {
   "cell_type": "code",
   "execution_count": null,
   "metadata": {},
   "outputs": [],
   "source": [
    "#Mostrando uma matriz de correlação das variáveis com a melhor modelagem\n",
    "print(np.corrcoef(Y_test, Y_pred))"
   ]
  },
  {
   "cell_type": "code",
   "execution_count": null,
   "metadata": {},
   "outputs": [],
   "source": [
    "#Erro absoluto médio entre o ROP previsto e o real\n",
    "print(mean_absolute_error(Y_test, Y_pred))"
   ]
  },
  {
   "cell_type": "code",
   "execution_count": null,
   "metadata": {},
   "outputs": [],
   "source": [
    "#Erro quadrático médio entre o ROP previsto e o real\n",
    "print(mean_squared_error(Y_test, Y_pred))"
   ]
  },
  {
   "cell_type": "code",
   "execution_count": null,
   "metadata": {},
   "outputs": [],
   "source": []
  }
 ],
 "metadata": {
  "colab": {
   "collapsed_sections": [],
   "name": "Replace_Missing_Values_Temperature.ipynb",
   "provenance": [],
   "version": "0.3.2"
  },
  "kernelspec": {
   "display_name": "Python 3",
   "language": "python",
   "name": "python3"
  },
  "language_info": {
   "codemirror_mode": {
    "name": "ipython",
    "version": 3
   },
   "file_extension": ".py",
   "mimetype": "text/x-python",
   "name": "python",
   "nbconvert_exporter": "python",
   "pygments_lexer": "ipython3",
   "version": "3.6.8"
  }
 },
 "nbformat": 4,
 "nbformat_minor": 1
}
