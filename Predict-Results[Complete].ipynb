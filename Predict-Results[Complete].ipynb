{
 "cells": [
  {
   "cell_type": "code",
   "execution_count": 1,
   "metadata": {},
   "outputs": [
    {
     "name": "stderr",
     "output_type": "stream",
     "text": [
      "Using TensorFlow backend.\n"
     ]
    }
   ],
   "source": [
    "#Importando bibliotecas\n",
    "import pandas as pd\n",
    "import numpy as np\n",
    "from datetime import datetime\n",
    "from math import ceil\n",
    "from math import floor\n",
    "from keras.models import Sequential\n",
    "from keras.layers import Dense\n",
    "from keras.wrappers.scikit_learn import KerasRegressor\n",
    "from sklearn.metrics import mean_absolute_error\n",
    "from sklearn.metrics import mean_squared_error\n",
    "from sklearn.preprocessing import MinMaxScaler\n",
    "import matplotlib.pyplot as plt\n",
    "import pickle\n",
    "import csv"
   ]
  },
  {
   "cell_type": "code",
   "execution_count": 2,
   "metadata": {},
   "outputs": [],
   "source": [
    "def OrganizarDados(dataSet):\n",
    "    #Transformando data em variável do tipo datetime\n",
    "    dataSet[\"Data\"] = pd.to_datetime(dataSet[\"Data\"], format = \"%d/%m/%Y\")\n",
    "    #Atribuindo \"Data\" como índice para a base de dados\n",
    "    dataSet = dataSet.set_index(\"Data\")\n",
    "    #Separando os dados em dois dataframes, um para as 00:00 h e outro para as 12:00 h\n",
    "    dataSet00, dataSet12 = dataSet[dataSet[\"Hora\"] == 0], dataSet[dataSet[\"Hora\"] == 1200]\n",
    "    #Descartando as colunas \"Hora\", \"Estacao\" e \"Unnamed: 11\" \n",
    "    dataSet00, dataSet12 = dataSet00.drop(columns = [\"Hora\", \"Estacao\", \"Unnamed: 11\"]), dataSet12.drop(columns = [\"Hora\", \"Estacao\", \"Unnamed: 11\"])\n",
    "    #Eliminando colunas completas por \"NaN\" em cada uma das bases de dados\n",
    "    dataSet00 = dataSet00.drop(columns = [\"Precipitacao\",\"TempMinima\"])\n",
    "    dataSet12 = dataSet12.drop(columns = [\"TempMaxima\",\"Insolacao\",\"Evaporacao Piche\",\"Temp Comp Media\",\"Umidade Relativa Media\",\"Velocidade do Vento Media\"])\n",
    "    #Criando o intervalo completo de tempo de 01-01-1980 à 31-12-2017\n",
    "    dataInicial = '1980-01-01'\n",
    "    dataFinal = '2017-12-31'\n",
    "    tempo = pd.date_range(dataInicial, dataFinal)\n",
    "    #Atribuindo este intervalo de tempo à um dataSet provisório\n",
    "    dataSetProv = pd.DataFrame()\n",
    "    dataSetProv[\"Data\"] = tempo\n",
    "    #Atribuindo o índice para o dataSet provisório como sendo a coluna de datas\n",
    "    dataSetProv = dataSetProv.set_index(\"Data\")\n",
    "    #Mesclando o dataSet provisório como sendo o resultado da junção dos dataSet00 e dataSet12\n",
    "    dataSetProv = dataSetProv.join(dataSet00).join(dataSet12)\n",
    "    #Tornando o dataSet como sendo o dataSet provisório\n",
    "    dataSet = dataSetProv  \n",
    "    return dataSet"
   ]
  },
  {
   "cell_type": "code",
   "execution_count": 3,
   "metadata": {},
   "outputs": [],
   "source": [
    "#Leitura de dados\n",
    "dataSetAracaju = OrganizarDados(pd.read_csv(\"https://raw.githubusercontent.com/gilvandrocesardemedeiros/Meteorology_replace-missing-values/master/DadosDiarios/aracajudiario.csv\",\n",
    "                      sep=';',skiprows=16))\n",
    "dataSetBelem = OrganizarDados(pd.read_csv(\"https://raw.githubusercontent.com/gilvandrocesardemedeiros/Meteorology_replace-missing-values/master/DadosDiarios/belemdiario.csv\",\n",
    "                      sep=';',skiprows=16))\n",
    "dataSetBeloHorizonte = OrganizarDados(pd.read_csv(\"https://raw.githubusercontent.com/gilvandrocesardemedeiros/Meteorology_replace-missing-values/master/DadosDiarios/bhdiario.csv\",\n",
    "                      sep=';',skiprows=16))\n",
    "dataSetBoaVista = OrganizarDados(pd.read_csv(\"https://raw.githubusercontent.com/gilvandrocesardemedeiros/Meteorology_replace-missing-values/master/DadosDiarios/boavistdiario.csv\",\n",
    "                      sep=';',skiprows=16))\n",
    "dataSetCuiaba = OrganizarDados(pd.read_csv(\"https://raw.githubusercontent.com/gilvandrocesardemedeiros/Meteorology_replace-missing-values/master/DadosDiarios/cuiabadiario.csv\",\n",
    "                      sep=';',skiprows=16))\n",
    "dataSetCuritiba = OrganizarDados(pd.read_csv(\"https://raw.githubusercontent.com/gilvandrocesardemedeiros/Meteorology_replace-missing-values/master/DadosDiarios/curitibadiario.csv\",\n",
    "                      sep=';',skiprows=16))\n",
    "dataSetFlorianopolis = OrganizarDados(pd.read_csv(\"https://raw.githubusercontent.com/gilvandrocesardemedeiros/Meteorology_replace-missing-values/master/DadosDiarios/florianopolisdiario.csv\",\n",
    "                      sep=';',skiprows=16))\n",
    "dataSetFortaleza = OrganizarDados(pd.read_csv(\"https://raw.githubusercontent.com/gilvandrocesardemedeiros/Meteorology_replace-missing-values/master/DadosDiarios/fortalezadiario.csv\",\n",
    "                      sep=';',skiprows=16))\n",
    "dataSetGoiania = OrganizarDados(pd.read_csv(\"https://raw.githubusercontent.com/gilvandrocesardemedeiros/Meteorology_replace-missing-values/master/DadosDiarios/goianiadiario.csv\",\n",
    "                      sep=';',skiprows=16))\n",
    "dataSetJoaoPessoa = OrganizarDados(pd.read_csv(\"https://raw.githubusercontent.com/gilvandrocesardemedeiros/Meteorology_replace-missing-values/master/DadosDiarios/joaopessoadiario.csv\",\n",
    "                      sep=';',skiprows=16))\n",
    "dataSetMacapa = OrganizarDados(pd.read_csv(\"https://raw.githubusercontent.com/gilvandrocesardemedeiros/Meteorology_replace-missing-values/master/DadosDiarios/macapadiario.csv\",\n",
    "                      sep=';',skiprows=16))\n",
    "dataSetMaceio = OrganizarDados(pd.read_csv(\"https://raw.githubusercontent.com/gilvandrocesardemedeiros/Meteorology_replace-missing-values/master/DadosDiarios/maceiodiario.csv\",\n",
    "                      sep=';',skiprows=16))\n",
    "dataSetManaus = OrganizarDados(pd.read_csv(\"https://raw.githubusercontent.com/gilvandrocesardemedeiros/Meteorology_replace-missing-values/master/DadosDiarios/manausdiario.csv\",\n",
    "                      sep=';',skiprows=16))\n",
    "dataSetNatal = OrganizarDados(pd.read_csv(\"https://raw.githubusercontent.com/gilvandrocesardemedeiros/Meteorology_replace-missing-values/master/DadosDiarios/nataldiario.csv\",\n",
    "                      sep=';',skiprows=16))\n",
    "dataSetPalmas = OrganizarDados(pd.read_csv(\"https://raw.githubusercontent.com/gilvandrocesardemedeiros/Meteorology_replace-missing-values/master/DadosDiarios/palmasdiario.csv\",\n",
    "                      sep=';',skiprows=16))\n",
    "dataSetPortoAlegre = OrganizarDados(pd.read_csv(\"https://raw.githubusercontent.com/gilvandrocesardemedeiros/Meteorology_replace-missing-values/master/DadosDiarios/portoalegrediario.csv\",\n",
    "                      sep=';',skiprows=16))\n",
    "dataSetRecife= OrganizarDados(pd.read_csv(\"https://raw.githubusercontent.com/gilvandrocesardemedeiros/Meteorology_replace-missing-values/master/DadosDiarios/recifediario.csv\",\n",
    "                      sep=';',skiprows=16))\n",
    "dataSetRioBranco = OrganizarDados(pd.read_csv(\"https://raw.githubusercontent.com/gilvandrocesardemedeiros/Meteorology_replace-missing-values/master/DadosDiarios/riobrancodiario.csv\",\n",
    "                      sep=';',skiprows=16))\n",
    "dataSetRioDeJaneiro = OrganizarDados(pd.read_csv(\"https://raw.githubusercontent.com/gilvandrocesardemedeiros/Meteorology_replace-missing-values/master/DadosDiarios/rjdiario.csv\",\n",
    "                      sep=';',skiprows=16))\n",
    "dataSetSalvador = OrganizarDados(pd.read_csv(\"https://raw.githubusercontent.com/gilvandrocesardemedeiros/Meteorology_replace-missing-values/master/DadosDiarios/salvadordiario.csv\",\n",
    "                      sep=';',skiprows=16))\n",
    "dataSetSaoLuis = OrganizarDados(pd.read_csv(\"https://raw.githubusercontent.com/gilvandrocesardemedeiros/Meteorology_replace-missing-values/master/DadosDiarios/saoluisdiario.csv\",\n",
    "                      sep=';',skiprows=16))\n",
    "dataSetSaoPaulo = OrganizarDados(pd.read_csv(\"https://raw.githubusercontent.com/gilvandrocesardemedeiros/Meteorology_replace-missing-values/master/DadosDiarios/spdiario.csv\",\n",
    "                      sep=';',skiprows=16))\n",
    "dataSetTeresina = OrganizarDados(pd.read_csv(\"https://raw.githubusercontent.com/gilvandrocesardemedeiros/Meteorology_replace-missing-values/master/DadosDiarios/teresinadiario.csv\",\n",
    "                      sep=';',skiprows=16))\n",
    "dataSetVitoria = OrganizarDados(pd.read_csv(\"https://raw.githubusercontent.com/gilvandrocesardemedeiros/Meteorology_replace-missing-values/master/DadosDiarios/vitoriadiario.csv\",\n",
    "                      sep=';',skiprows=16))"
   ]
  },
  {
   "cell_type": "code",
   "execution_count": 9,
   "metadata": {},
   "outputs": [],
   "source": [
    "#Definindo uma função para criar a MLP\n",
    "def trainMLP(optimizer='adam', init='random_uniform', units = 7, camadas = 2):    \n",
    "  #Criando o modelo\n",
    "  mlp = Sequential()\n",
    "  #Adicionando a camada de entrada\n",
    "  mlp.add(Dense(activation = 'tanh', input_dim = units, units = units, kernel_initializer = init, bias_initializer='zeros'))\n",
    "  #Adicionando as camadas escondidas\n",
    "  for i in range(camadas):\n",
    "    mlp.add(Dense(activation = 'tanh', units = units, kernel_initializer = init, bias_initializer='zeros'))\n",
    "  #Adicionando a camada de saída\n",
    "  mlp.add(Dense(units = 1, kernel_initializer = init, bias_initializer='zeros'))    \n",
    "  # Compilando o modelo\n",
    "  mlp.compile(loss='mean_squared_error', optimizer = optimizer, metrics= ['mae'])\n",
    "  return mlp"
   ]
  },
  {
   "cell_type": "markdown",
   "metadata": {},
   "source": [
    "# Previsão de Temperatura Máxima"
   ]
  },
  {
   "cell_type": "code",
   "execution_count": 10,
   "metadata": {},
   "outputs": [
    {
     "name": "stdout",
     "output_type": "stream",
     "text": [
      "WARNING:tensorflow:From /home/gilvandro/anaconda3/lib/python3.6/site-packages/tensorflow/python/framework/op_def_library.py:263: colocate_with (from tensorflow.python.framework.ops) is deprecated and will be removed in a future version.\n",
      "Instructions for updating:\n",
      "Colocations handled automatically by placer.\n",
      "WARNING:tensorflow:From /home/gilvandro/anaconda3/lib/python3.6/site-packages/tensorflow/python/ops/math_ops.py:3066: to_int32 (from tensorflow.python.ops.math_ops) is deprecated and will be removed in a future version.\n",
      "Instructions for updating:\n",
      "Use tf.cast instead.\n"
     ]
    },
    {
     "name": "stderr",
     "output_type": "stream",
     "text": [
      "/home/gilvandro/anaconda3/lib/python3.6/site-packages/sklearn/base.py:306: UserWarning: Trying to unpickle estimator GridSearchCV from version 0.21.2 when using version 0.21.1. This might lead to breaking code or invalid results. Use at your own risk.\n",
      "  UserWarning)\n"
     ]
    }
   ],
   "source": [
    "#Lendo os modelos de redes neurais para temperatura máxima salvos com pickle\n",
    "ModeloTempMax_Aracaju = pickle.load(open(\"SerializedTrainedModels[Pickle]/TemperaturaMaximaAracaju.sav\", 'rb'))\n",
    "ModeloTempMax_Belem = pickle.load(open(\"SerializedTrainedModels[Pickle]/TemperaturaMaximaBelem.sav\", 'rb'))\n",
    "ModeloTempMax_BeloHorizonte = pickle.load(open(\"SerializedTrainedModels[Pickle]/TemperaturaMaximaBeloHorizonte.sav\", 'rb'))\n",
    "ModeloTempMax_BoaVista = pickle.load(open(\"SerializedTrainedModels[Pickle]/TemperaturaMaximaBoaVista.sav\", 'rb'))\n",
    "ModeloTempMax_Cuiaba = pickle.load(open(\"SerializedTrainedModels[Pickle]/TemperaturaMaximaCuiaba.sav\", 'rb'))\n",
    "ModeloTempMax_Curitiba = pickle.load(open(\"SerializedTrainedModels[Pickle]/TemperaturaMaximaCuritiba.sav\", 'rb'))\n",
    "ModeloTempMax_Florianopolis = pickle.load(open(\"SerializedTrainedModels[Pickle]/TemperaturaMaximaFlorianopolis.sav\", 'rb'))\n",
    "ModeloTempMax_Fortaleza = pickle.load(open(\"SerializedTrainedModels[Pickle]/TemperaturaMaximaFortaleza.sav\", 'rb'))\n",
    "ModeloTempMax_Goiania = pickle.load(open(\"SerializedTrainedModels[Pickle]/TemperaturaMaximaGoiania.sav\", 'rb'))\n",
    "ModeloTempMax_JoaoPessoa = pickle.load(open(\"SerializedTrainedModels[Pickle]/TemperaturaMaximaJoaoPessoa.sav\", 'rb'))\n",
    "ModeloTempMax_Macapa = pickle.load(open(\"SerializedTrainedModels[Pickle]/TemperaturaMaximaMacapa.sav\", 'rb'))\n",
    "ModeloTempMax_Maceio = pickle.load(open(\"SerializedTrainedModels[Pickle]/TemperaturaMaximaMaceio.sav\", 'rb'))\n",
    "ModeloTempMax_Manaus = pickle.load(open(\"SerializedTrainedModels[Pickle]/TemperaturaMaximaManaus.sav\", 'rb'))\n",
    "ModeloTempMax_Natal = pickle.load(open(\"SerializedTrainedModels[Pickle]/TemperaturaMaximaNatal.sav\", 'rb'))\n",
    "ModeloTempMax_Palmas = pickle.load(open(\"SerializedTrainedModels[Pickle]/TemperaturaMaximaPalmas.sav\", 'rb'))\n",
    "ModeloTempMax_PortoAlegre = pickle.load(open(\"SerializedTrainedModels[Pickle]/TemperaturaMaximaPortoAlegre.sav\", 'rb'))\n",
    "ModeloTempMax_Recife = pickle.load(open(\"SerializedTrainedModels[Pickle]/TemperaturaMaximaRecife.sav\", 'rb'))\n",
    "ModeloTempMax_RioBranco = pickle.load(open(\"SerializedTrainedModels[Pickle]/TemperaturaMaximaRioBranco.sav\", 'rb'))\n",
    "ModeloTempMax_RioDeJaneiro = pickle.load(open(\"SerializedTrainedModels[Pickle]/TemperaturaMaximaRioDeJaneiro.sav\", 'rb'))\n",
    "ModeloTempMax_Salvador = pickle.load(open(\"SerializedTrainedModels[Pickle]/TemperaturaMaximaSalvador.sav\", 'rb'))\n",
    "ModeloTempMax_SaoLuis = pickle.load(open(\"SerializedTrainedModels[Pickle]/TemperaturaMaximaSaoLuis.sav\", 'rb'))\n",
    "ModeloTempMax_SaoPaulo = pickle.load(open(\"SerializedTrainedModels[Pickle]/TemperaturaMaximaSaoPaulo.sav\", 'rb'))\n",
    "ModeloTempMax_Teresina = pickle.load(open(\"SerializedTrainedModels[Pickle]/TemperaturaMaximaTeresina.sav\", 'rb'))\n",
    "ModeloTempMax_Vitoria = pickle.load(open(\"SerializedTrainedModels[Pickle]/TemperaturaMaximaVitoria.sav\", 'rb'))"
   ]
  },
  {
   "cell_type": "code",
   "execution_count": 11,
   "metadata": {},
   "outputs": [],
   "source": [
    "def DadosTempMax(dataSet):\n",
    "    #Separando base de dados para treino de rede neural para previsão de temperatura máxima\n",
    "    dataTempMax = dataSet\n",
    "    dataAux = dataSet.dropna(subset = [\"TempMaxima\"])\n",
    "    #Separando a variável que será prevista, TempMaxima, da base de dados\n",
    "    tempMax = dataTempMax[\"TempMaxima\"]\n",
    "    dataTempMax = dataTempMax.drop(columns = \"TempMaxima\")\n",
    "    dataAux = dataAux.drop(columns = \"TempMaxima\")\n",
    "    #Efetuando uma transformação que lineariza todas as informações para cada coluna entre -1 e 1\n",
    "    mms = MinMaxScaler(feature_range=(-1, 1))\n",
    "    dataAux = mms.fit(dataAux)\n",
    "    dataTempMax = mms.transform(dataTempMax)\n",
    "    #Trocando dados faltantes por 0 \n",
    "    dataTempMax = np.nan_to_num(dataTempMax, copy = False)\n",
    "    return dataTempMax, tempMax"
   ]
  },
  {
   "cell_type": "code",
   "execution_count": 12,
   "metadata": {},
   "outputs": [],
   "source": [
    "#Tratamento de dados para previsão de temperatura máxima\n",
    "dataTempMaxAracaju, tempMaxAracaju = DadosTempMax(dataSetAracaju)\n",
    "dataTempMaxBelem, tempMaxBelem = DadosTempMax(dataSetBelem)\n",
    "dataTempMaxBeloHorizonte, tempMaxBeloHorizonte = DadosTempMax(dataSetBeloHorizonte)\n",
    "dataTempMaxBoaVista, tempMaxBoaVista = DadosTempMax(dataSetBoaVista)\n",
    "dataTempMaxCuiaba, tempMaxCuiaba = DadosTempMax(dataSetCuiaba)\n",
    "dataTempMaxCuritiba, tempMaxCuritiba = DadosTempMax(dataSetCuritiba)\n",
    "dataTempMaxFlorianopolis, tempMaxFlorianopolis = DadosTempMax(dataSetFlorianopolis)\n",
    "dataTempMaxFortaleza, tempMaxFortaleza = DadosTempMax(dataSetFortaleza)\n",
    "dataTempMaxGoiania, tempMaxGoiania = DadosTempMax(dataSetGoiania)\n",
    "dataTempMaxJoaoPessoa, tempMaxJoaoPessoa = DadosTempMax(dataSetJoaoPessoa)\n",
    "dataTempMaxMacapa, tempMaxMacapa = DadosTempMax(dataSetMacapa)\n",
    "dataTempMaxMaceio, tempMaxMaceio = DadosTempMax(dataSetMaceio)\n",
    "dataTempMaxManaus, tempMaxManaus = DadosTempMax(dataSetManaus)\n",
    "dataTempMaxNatal, tempMaxNatal = DadosTempMax(dataSetNatal)\n",
    "dataTempMaxPalmas, tempMaxPalmas = DadosTempMax(dataSetPalmas)\n",
    "dataTempMaxPortoAlegre, tempMaxPortoAlegre = DadosTempMax(dataSetPortoAlegre)\n",
    "dataTempMaxRecife, tempMaxRecife = DadosTempMax(dataSetRecife)\n",
    "dataTempMaxRioBranco, tempMaxRioBranco = DadosTempMax(dataSetRioBranco)\n",
    "dataTempMaxRioDeJaneiro, tempMaxRioDeJaneiro = DadosTempMax(dataSetRioDeJaneiro)\n",
    "dataTempMaxSalvador, tempMaxSalvador = DadosTempMax(dataSetSalvador)\n",
    "dataTempMaxSaoLuis, tempMaxSaoLuis = DadosTempMax(dataSetSaoLuis)\n",
    "dataTempMaxSaoPaulo, tempMaxSaoPaulo = DadosTempMax(dataSetSaoPaulo)\n",
    "dataTempMaxTeresina, tempMaxTeresina = DadosTempMax(dataSetTeresina)\n",
    "dataTempMaxVitoria, tempMaxVitoria = DadosTempMax(dataSetVitoria)"
   ]
  },
  {
   "cell_type": "markdown",
   "metadata": {},
   "source": [
    "<h3> Resultados:"
   ]
  },
  {
   "cell_type": "code",
   "execution_count": 13,
   "metadata": {},
   "outputs": [],
   "source": [
    "def PlotarGrafico(ModeloTempMax, dataTempMax, cidade):\n",
    "    tempMaxPrevista = ModeloTempMax.predict(dataTempMax)\n",
    "    exportCSV(tempMaxPrevista, cidade, \"TempMax\")"
   ]
  },
  {
   "cell_type": "code",
   "execution_count": 18,
   "metadata": {},
   "outputs": [],
   "source": [
    "def exportCSV(tempPrevista, cidade, variavel):\n",
    "    prov = pd.DataFrame()\n",
    "    tempo = pd.date_range('1980-01-01', '2017-12-31')\n",
    "    prov[\"Data\"] = tempo\n",
    "    prov = prov.set_index(\"Data\")\n",
    "    prov[variavel + \"Prevista\"] = tempPrevista\n",
    "    prov.to_csv(path_or_buf = \"PredictedData[Estimada]/\" + variavel + cidade + \".csv\", sep=',')"
   ]
  },
  {
   "cell_type": "code",
   "execution_count": 19,
   "metadata": {},
   "outputs": [],
   "source": [
    "#Resultados Aracaju\n",
    "PlotarGrafico(ModeloTempMax = ModeloTempMax_Aracaju, dataTempMax = dataTempMaxAracaju, cidade = \"Aracaju\")"
   ]
  },
  {
   "cell_type": "code",
   "execution_count": 20,
   "metadata": {},
   "outputs": [],
   "source": [
    "#Resultados Belo Horizonte\n",
    "PlotarGrafico(ModeloTempMax = ModeloTempMax_BeloHorizonte, dataTempMax = dataTempMaxBeloHorizonte, cidade = \"Belo Horizonte\")"
   ]
  },
  {
   "cell_type": "code",
   "execution_count": 21,
   "metadata": {},
   "outputs": [],
   "source": [
    "#Resultados Belém\n",
    "PlotarGrafico(ModeloTempMax = ModeloTempMax_Belem, dataTempMax = dataTempMaxBelem, cidade = \"Belém\")"
   ]
  },
  {
   "cell_type": "code",
   "execution_count": 22,
   "metadata": {},
   "outputs": [],
   "source": [
    "#Resultados Boa Vista\n",
    "PlotarGrafico(ModeloTempMax = ModeloTempMax_BoaVista, dataTempMax = dataTempMaxBoaVista, cidade = \"Boa Vista\")"
   ]
  },
  {
   "cell_type": "code",
   "execution_count": 23,
   "metadata": {},
   "outputs": [],
   "source": [
    "#Resultados Cuiabá\n",
    "PlotarGrafico(ModeloTempMax = ModeloTempMax_Cuiaba, dataTempMax = dataTempMaxCuiaba, cidade = \"Cuiabá\")"
   ]
  },
  {
   "cell_type": "code",
   "execution_count": 24,
   "metadata": {},
   "outputs": [],
   "source": [
    "#Resultados Curitiba\n",
    "PlotarGrafico(ModeloTempMax = ModeloTempMax_Curitiba, dataTempMax = dataTempMaxCuritiba, cidade = \"Curitiba\")"
   ]
  },
  {
   "cell_type": "code",
   "execution_count": 25,
   "metadata": {},
   "outputs": [],
   "source": [
    "#Resultados Florianópolis\n",
    "PlotarGrafico(ModeloTempMax = ModeloTempMax_Florianopolis, dataTempMax = dataTempMaxFlorianopolis, cidade = \"Florianópolis\")"
   ]
  },
  {
   "cell_type": "code",
   "execution_count": 26,
   "metadata": {},
   "outputs": [],
   "source": [
    "#Resultados Fortaleza\n",
    "PlotarGrafico(ModeloTempMax = ModeloTempMax_Fortaleza, dataTempMax = dataTempMaxFortaleza, cidade = \"Fortaleza\")"
   ]
  },
  {
   "cell_type": "code",
   "execution_count": 27,
   "metadata": {},
   "outputs": [],
   "source": [
    "#Resultados Goiânia\n",
    "PlotarGrafico(ModeloTempMax = ModeloTempMax_Goiania, dataTempMax = dataTempMaxGoiania, cidade = \"Goiânia\")"
   ]
  },
  {
   "cell_type": "code",
   "execution_count": 28,
   "metadata": {},
   "outputs": [],
   "source": [
    "#Resultados João Pessoa\n",
    "PlotarGrafico(ModeloTempMax = ModeloTempMax_JoaoPessoa, dataTempMax = dataTempMaxJoaoPessoa, cidade = \"João Pessoa\")"
   ]
  },
  {
   "cell_type": "code",
   "execution_count": 29,
   "metadata": {},
   "outputs": [],
   "source": [
    "#Resultados Macapá\n",
    "PlotarGrafico(ModeloTempMax = ModeloTempMax_Macapa, dataTempMax = dataTempMaxMacapa, cidade = \"Macapá\")"
   ]
  },
  {
   "cell_type": "code",
   "execution_count": 30,
   "metadata": {},
   "outputs": [],
   "source": [
    "#Resultados Maceió\n",
    "PlotarGrafico(ModeloTempMax = ModeloTempMax_Maceio, dataTempMax = dataTempMaxMaceio, cidade = \"Maceió\")"
   ]
  },
  {
   "cell_type": "code",
   "execution_count": 31,
   "metadata": {},
   "outputs": [],
   "source": [
    "#Resultados Manaus\n",
    "PlotarGrafico(ModeloTempMax = ModeloTempMax_Manaus, dataTempMax = dataTempMaxManaus, cidade = \"Manaus\")"
   ]
  },
  {
   "cell_type": "code",
   "execution_count": 32,
   "metadata": {},
   "outputs": [],
   "source": [
    "#Resultados Natal\n",
    "PlotarGrafico(ModeloTempMax = ModeloTempMax_Natal, dataTempMax = dataTempMaxNatal, cidade = \"Natal\")"
   ]
  },
  {
   "cell_type": "code",
   "execution_count": 33,
   "metadata": {},
   "outputs": [],
   "source": [
    "#Resultados Palmas\n",
    "PlotarGrafico(ModeloTempMax = ModeloTempMax_Palmas, dataTempMax = dataTempMaxPalmas, cidade = \"Palmas\")"
   ]
  },
  {
   "cell_type": "code",
   "execution_count": 34,
   "metadata": {},
   "outputs": [],
   "source": [
    "#Resultados Porto Alegre\n",
    "PlotarGrafico(ModeloTempMax = ModeloTempMax_PortoAlegre, dataTempMax = dataTempMaxPortoAlegre, cidade = \"Porto Alegre\")"
   ]
  },
  {
   "cell_type": "code",
   "execution_count": 35,
   "metadata": {},
   "outputs": [],
   "source": [
    "#Resultados Recife\n",
    "PlotarGrafico(ModeloTempMax = ModeloTempMax_Recife, dataTempMax = dataTempMaxRecife, cidade = \"Recife\")"
   ]
  },
  {
   "cell_type": "code",
   "execution_count": 36,
   "metadata": {},
   "outputs": [],
   "source": [
    "#Resultados Rio Branco\n",
    "PlotarGrafico(ModeloTempMax = ModeloTempMax_RioBranco, dataTempMax = dataTempMaxRioBranco, cidade = \"Rio Branco\")"
   ]
  },
  {
   "cell_type": "code",
   "execution_count": 37,
   "metadata": {},
   "outputs": [],
   "source": [
    "#Resultados Rio de Janeiro\n",
    "PlotarGrafico(ModeloTempMax = ModeloTempMax_RioDeJaneiro, dataTempMax = dataTempMaxRioDeJaneiro, cidade = \"Rio de Janeiro\")"
   ]
  },
  {
   "cell_type": "code",
   "execution_count": 38,
   "metadata": {},
   "outputs": [],
   "source": [
    "#Resultados Salvador\n",
    "PlotarGrafico(ModeloTempMax = ModeloTempMax_Salvador, dataTempMax = dataTempMaxSalvador, cidade = \"Salvador\")"
   ]
  },
  {
   "cell_type": "code",
   "execution_count": 39,
   "metadata": {},
   "outputs": [],
   "source": [
    "#Resultados São Luis\n",
    "PlotarGrafico(ModeloTempMax = ModeloTempMax_SaoLuis, dataTempMax = dataTempMaxSaoLuis, cidade = \"São Luis\")"
   ]
  },
  {
   "cell_type": "code",
   "execution_count": 40,
   "metadata": {},
   "outputs": [],
   "source": [
    "#Resultados São Paulo\n",
    "PlotarGrafico(ModeloTempMax = ModeloTempMax_SaoPaulo, dataTempMax = dataTempMaxSaoPaulo, cidade = \"São Paulo\")"
   ]
  },
  {
   "cell_type": "code",
   "execution_count": 41,
   "metadata": {},
   "outputs": [],
   "source": [
    "#Resultados Teresina\n",
    "PlotarGrafico(ModeloTempMax = ModeloTempMax_Teresina, dataTempMax = dataTempMaxTeresina, cidade = \"Teresina\")"
   ]
  },
  {
   "cell_type": "code",
   "execution_count": 42,
   "metadata": {},
   "outputs": [],
   "source": [
    "#Resultados Vitória\n",
    "PlotarGrafico(ModeloTempMax = ModeloTempMax_Vitoria, dataTempMax = dataTempMaxVitoria, cidade = \"Vitória\")"
   ]
  },
  {
   "cell_type": "markdown",
   "metadata": {},
   "source": [
    "# Previsão de Temperatura Mínima"
   ]
  },
  {
   "cell_type": "code",
   "execution_count": 43,
   "metadata": {},
   "outputs": [
    {
     "name": "stderr",
     "output_type": "stream",
     "text": [
      "/home/gilvandro/anaconda3/lib/python3.6/site-packages/sklearn/base.py:306: UserWarning: Trying to unpickle estimator GridSearchCV from version 0.21.2 when using version 0.21.1. This might lead to breaking code or invalid results. Use at your own risk.\n",
      "  UserWarning)\n"
     ]
    }
   ],
   "source": [
    "#Lendo os modelos de redes neurais para temperatura mínima salvos com pickle\n",
    "ModeloTempMin_Aracaju = pickle.load(open(\"SerializedTrainedModels[Pickle]/TemperaturaMinimaAracaju.sav\", 'rb'))\n",
    "ModeloTempMin_Belem = pickle.load(open(\"SerializedTrainedModels[Pickle]/TemperaturaMinimaBelem.sav\", 'rb'))\n",
    "ModeloTempMin_BeloHorizonte = pickle.load(open(\"SerializedTrainedModels[Pickle]/TemperaturaMinimaBeloHorizonte.sav\", 'rb'))\n",
    "ModeloTempMin_BoaVista = pickle.load(open(\"SerializedTrainedModels[Pickle]/TemperaturaMinimaBoaVista.sav\", 'rb'))\n",
    "ModeloTempMin_Cuiaba = pickle.load(open(\"SerializedTrainedModels[Pickle]/TemperaturaMinimaCuiaba.sav\", 'rb'))\n",
    "ModeloTempMin_Curitiba = pickle.load(open(\"SerializedTrainedModels[Pickle]/TemperaturaMinimaCuritiba.sav\", 'rb'))\n",
    "ModeloTempMin_Florianopolis = pickle.load(open(\"SerializedTrainedModels[Pickle]/TemperaturaMinimaFlorianopolis.sav\", 'rb'))\n",
    "ModeloTempMin_Fortaleza = pickle.load(open(\"SerializedTrainedModels[Pickle]/TemperaturaMinimaFortaleza.sav\", 'rb'))\n",
    "ModeloTempMin_Goiania = pickle.load(open(\"SerializedTrainedModels[Pickle]/TemperaturaMinimaGoiania.sav\", 'rb'))\n",
    "ModeloTempMin_JoaoPessoa = pickle.load(open(\"SerializedTrainedModels[Pickle]/TemperaturaMinimaJoaoPessoa.sav\", 'rb'))\n",
    "ModeloTempMin_Macapa = pickle.load(open(\"SerializedTrainedModels[Pickle]/TemperaturaMinimaMacapa.sav\", 'rb'))\n",
    "ModeloTempMin_Maceio = pickle.load(open(\"SerializedTrainedModels[Pickle]/TemperaturaMinimaMaceio.sav\", 'rb'))\n",
    "ModeloTempMin_Manaus = pickle.load(open(\"SerializedTrainedModels[Pickle]/TemperaturaMinimaManaus.sav\", 'rb'))\n",
    "ModeloTempMin_Natal = pickle.load(open(\"SerializedTrainedModels[Pickle]/TemperaturaMinimaNatal.sav\", 'rb'))\n",
    "ModeloTempMin_Palmas = pickle.load(open(\"SerializedTrainedModels[Pickle]/TemperaturaMinimaPalmas.sav\", 'rb'))\n",
    "ModeloTempMin_PortoAlegre = pickle.load(open(\"SerializedTrainedModels[Pickle]/TemperaturaMinimaPortoAlegre.sav\", 'rb'))\n",
    "ModeloTempMin_Recife = pickle.load(open(\"SerializedTrainedModels[Pickle]/TemperaturaMinimaRecife.sav\", 'rb'))\n",
    "ModeloTempMin_RioBranco = pickle.load(open(\"SerializedTrainedModels[Pickle]/TemperaturaMinimaRioBranco.sav\", 'rb'))\n",
    "ModeloTempMin_RioDeJaneiro = pickle.load(open(\"SerializedTrainedModels[Pickle]/TemperaturaMinimaRioDeJaneiro.sav\", 'rb'))\n",
    "ModeloTempMin_Salvador = pickle.load(open(\"SerializedTrainedModels[Pickle]/TemperaturaMinimaSalvador.sav\", 'rb'))\n",
    "ModeloTempMin_SaoLuis = pickle.load(open(\"SerializedTrainedModels[Pickle]/TemperaturaMinimaSaoLuis.sav\", 'rb'))\n",
    "ModeloTempMin_SaoPaulo = pickle.load(open(\"SerializedTrainedModels[Pickle]/TemperaturaMinimaSaoPaulo.sav\", 'rb'))\n",
    "ModeloTempMin_Teresina = pickle.load(open(\"SerializedTrainedModels[Pickle]/TemperaturaMinimaTeresina.sav\", 'rb'))\n",
    "ModeloTempMin_Vitoria = pickle.load(open(\"SerializedTrainedModels[Pickle]/TemperaturaMinimaVitoria.sav\", 'rb'))"
   ]
  },
  {
   "cell_type": "code",
   "execution_count": 46,
   "metadata": {},
   "outputs": [],
   "source": [
    "def DadosTempMin(dataSet):\n",
    "    #Separando base de dados para treino de rede neural para previsão de temperatura mínima\n",
    "    dataTempMin = dataSet\n",
    "    dataAux = dataSet.dropna(subset = [\"TempMinima\"])\n",
    "    #Separando a variável que será prevista, TempMaxima, da base de dados\n",
    "    tempMin = dataTempMin[\"TempMinima\"]\n",
    "    dataTempMin = dataTempMin.drop(columns = \"TempMinima\")\n",
    "    dataAux = dataAux.drop(columns = \"TempMinima\")\n",
    "    #Efetuando uma transformação que lineariza todas as informações para cada coluna entre -1 e 1\n",
    "    mms = MinMaxScaler(feature_range=(-1, 1))\n",
    "    dataAux = mms.fit(dataAux)\n",
    "    dataTempMin = mms.transform(dataTempMin)\n",
    "    #Trocando dados faltantes por 0 \n",
    "    dataTempMin = np.nan_to_num(dataTempMin, copy = False)\n",
    "    return dataTempMin, tempMin"
   ]
  },
  {
   "cell_type": "code",
   "execution_count": 47,
   "metadata": {},
   "outputs": [],
   "source": [
    "#Tratamento de dados para previsão de temperatura mínima\n",
    "dataTempMinAracaju, tempMinAracaju = DadosTempMin(dataSetAracaju)\n",
    "dataTempMinBelem, tempMinBelem = DadosTempMin(dataSetBelem)\n",
    "dataTempMinBeloHorizonte, tempMinBeloHorizonte = DadosTempMin(dataSetBeloHorizonte)\n",
    "dataTempMinBoaVista, tempMinBoaVista = DadosTempMin(dataSetBoaVista)\n",
    "dataTempMinCuiaba, tempMinCuiaba = DadosTempMin(dataSetCuiaba)\n",
    "dataTempMinCuritiba, tempMinCuritiba = DadosTempMin(dataSetCuritiba)\n",
    "dataTempMinFlorianopolis, tempMinFlorianopolis = DadosTempMin(dataSetFlorianopolis)\n",
    "dataTempMinFortaleza, tempMinFortaleza = DadosTempMin(dataSetFortaleza)\n",
    "dataTempMinGoiania, tempMinGoiania = DadosTempMin(dataSetGoiania)\n",
    "dataTempMinJoaoPessoa, tempMinJoaoPessoa = DadosTempMin(dataSetJoaoPessoa)\n",
    "dataTempMinMacapa, tempMinMacapa = DadosTempMin(dataSetMacapa)\n",
    "dataTempMinMaceio, tempMinMaceio = DadosTempMin(dataSetMaceio)\n",
    "dataTempMinManaus, tempMinManaus = DadosTempMin(dataSetManaus)\n",
    "dataTempMinNatal, tempMinNatal = DadosTempMin(dataSetNatal)\n",
    "dataTempMinPalmas, tempMinPalmas = DadosTempMin(dataSetPalmas)\n",
    "dataTempMinPortoAlegre, tempMinPortoAlegre = DadosTempMin(dataSetPortoAlegre)\n",
    "dataTempMinRecife, tempMinRecife = DadosTempMin(dataSetRecife)\n",
    "dataTempMinRioBranco, tempMinRioBranco = DadosTempMin(dataSetRioBranco)\n",
    "dataTempMinRioDeJaneiro, tempMinRioDeJaneiro = DadosTempMin(dataSetRioDeJaneiro)\n",
    "dataTempMinSalvador, tempMinSalvador = DadosTempMin(dataSetSalvador)\n",
    "dataTempMinSaoLuis, tempMinSaoLuis = DadosTempMin(dataSetSaoLuis)\n",
    "dataTempMinSaoPaulo, tempMinSaoPaulo = DadosTempMin(dataSetSaoPaulo)\n",
    "dataTempMinTeresina, tempMinTeresina = DadosTempMin(dataSetTeresina)\n",
    "dataTempMinVitoria, tempMinVitoria = DadosTempMin(dataSetVitoria)"
   ]
  },
  {
   "cell_type": "markdown",
   "metadata": {},
   "source": [
    "<h3> Resultados:"
   ]
  },
  {
   "cell_type": "code",
   "execution_count": 48,
   "metadata": {},
   "outputs": [],
   "source": [
    "def PlotarGrafico(ModeloTempMin, dataTempMin, cidade):\n",
    "    tempMinPrevista = ModeloTempMin.predict(dataTempMin)\n",
    "    exportCSV(tempMinPrevista, cidade, \"TempMin\")"
   ]
  },
  {
   "cell_type": "code",
   "execution_count": 49,
   "metadata": {},
   "outputs": [],
   "source": [
    "#Resultados Aracaju\n",
    "PlotarGrafico(ModeloTempMin = ModeloTempMin_Aracaju, dataTempMin = dataTempMinAracaju, cidade = \"Aracaju\")"
   ]
  },
  {
   "cell_type": "code",
   "execution_count": 50,
   "metadata": {},
   "outputs": [],
   "source": [
    "#Resultados Belo Horizonte\n",
    "PlotarGrafico(ModeloTempMin = ModeloTempMin_BeloHorizonte, dataTempMin = dataTempMinBeloHorizonte, cidade = \"Belo Horizonte\")"
   ]
  },
  {
   "cell_type": "code",
   "execution_count": 51,
   "metadata": {},
   "outputs": [],
   "source": [
    "#Resultados Belém\n",
    "PlotarGrafico(ModeloTempMin = ModeloTempMin_Belem, dataTempMin = dataTempMinBelem, cidade = \"Belém\")"
   ]
  },
  {
   "cell_type": "code",
   "execution_count": 52,
   "metadata": {},
   "outputs": [],
   "source": [
    "#Resultados Boa Vista\n",
    "PlotarGrafico(ModeloTempMin = ModeloTempMin_BoaVista, dataTempMin = dataTempMinBoaVista, cidade = \"Boa Vista\")"
   ]
  },
  {
   "cell_type": "code",
   "execution_count": 53,
   "metadata": {},
   "outputs": [],
   "source": [
    "#Resultados Cuiabá\n",
    "PlotarGrafico(ModeloTempMin = ModeloTempMin_Cuiaba, dataTempMin = dataTempMinCuiaba, cidade = \"Cuiabá\")"
   ]
  },
  {
   "cell_type": "code",
   "execution_count": 54,
   "metadata": {},
   "outputs": [],
   "source": [
    "#Resultados Curitiba\n",
    "PlotarGrafico(ModeloTempMin = ModeloTempMin_Curitiba, dataTempMin = dataTempMinCuritiba, cidade = \"Curitiba\")"
   ]
  },
  {
   "cell_type": "code",
   "execution_count": 55,
   "metadata": {},
   "outputs": [],
   "source": [
    "#Resultados Florianópolis\n",
    "PlotarGrafico(ModeloTempMin = ModeloTempMin_Florianopolis, dataTempMin = dataTempMinFlorianopolis, cidade = \"Florianópolis\")"
   ]
  },
  {
   "cell_type": "code",
   "execution_count": 56,
   "metadata": {},
   "outputs": [],
   "source": [
    "#Resultados Fortaleza\n",
    "PlotarGrafico(ModeloTempMin = ModeloTempMin_Fortaleza, dataTempMin = dataTempMinFortaleza, cidade = \"Fortaleza\")"
   ]
  },
  {
   "cell_type": "code",
   "execution_count": 57,
   "metadata": {},
   "outputs": [],
   "source": [
    "#Resultados Goiânia\n",
    "PlotarGrafico(ModeloTempMin = ModeloTempMin_Goiania, dataTempMin = dataTempMinGoiania, cidade = \"Goiânia\")"
   ]
  },
  {
   "cell_type": "code",
   "execution_count": 58,
   "metadata": {},
   "outputs": [],
   "source": [
    "#Resultados João Pessoa\n",
    "PlotarGrafico(ModeloTempMin = ModeloTempMin_JoaoPessoa, dataTempMin = dataTempMinJoaoPessoa, cidade = \"João Pessoa\")"
   ]
  },
  {
   "cell_type": "code",
   "execution_count": 59,
   "metadata": {},
   "outputs": [],
   "source": [
    "#Resultados Macapá\n",
    "PlotarGrafico(ModeloTempMin = ModeloTempMin_Macapa, dataTempMin = dataTempMinMacapa, cidade = \"Macapá\")"
   ]
  },
  {
   "cell_type": "code",
   "execution_count": 60,
   "metadata": {},
   "outputs": [],
   "source": [
    "#Resultados Maceió\n",
    "PlotarGrafico(ModeloTempMin = ModeloTempMin_Maceio, dataTempMin = dataTempMinMaceio, cidade = \"Maceió\")"
   ]
  },
  {
   "cell_type": "code",
   "execution_count": 63,
   "metadata": {},
   "outputs": [],
   "source": [
    "#Resultados Manaus\n",
    "PlotarGrafico(ModeloTempMin = ModeloTempMin_Manaus, dataTempMin = dataTempMinManaus, cidade = \"Manaus\")"
   ]
  },
  {
   "cell_type": "code",
   "execution_count": 64,
   "metadata": {},
   "outputs": [],
   "source": [
    "#Resultados Natal\n",
    "PlotarGrafico(ModeloTempMin = ModeloTempMin_Natal, dataTempMin = dataTempMinNatal, cidade = \"Natal\")"
   ]
  },
  {
   "cell_type": "code",
   "execution_count": 65,
   "metadata": {},
   "outputs": [],
   "source": [
    "#Resultados Palmas\n",
    "PlotarGrafico(ModeloTempMin = ModeloTempMin_Palmas, dataTempMin = dataTempMinPalmas, cidade = \"Palmas\")"
   ]
  },
  {
   "cell_type": "code",
   "execution_count": 66,
   "metadata": {},
   "outputs": [],
   "source": [
    "#Resultados Porto Alegre\n",
    "PlotarGrafico(ModeloTempMin = ModeloTempMin_PortoAlegre, dataTempMin = dataTempMinPortoAlegre, cidade = \"Porto Alegre\")"
   ]
  },
  {
   "cell_type": "code",
   "execution_count": 67,
   "metadata": {},
   "outputs": [],
   "source": [
    "#Resultados Recife\n",
    "PlotarGrafico(ModeloTempMin = ModeloTempMin_Recife, dataTempMin = dataTempMinRecife, cidade = \"Recife\")"
   ]
  },
  {
   "cell_type": "code",
   "execution_count": 68,
   "metadata": {},
   "outputs": [],
   "source": [
    "#Resultados Rio Branco\n",
    "PlotarGrafico(ModeloTempMin = ModeloTempMin_RioBranco, dataTempMin = dataTempMinRioBranco, cidade = \"Rio Branco\")"
   ]
  },
  {
   "cell_type": "code",
   "execution_count": 69,
   "metadata": {},
   "outputs": [],
   "source": [
    "#Resultados Rio de Janeiro\n",
    "PlotarGrafico(ModeloTempMin = ModeloTempMin_RioDeJaneiro, dataTempMin = dataTempMinRioDeJaneiro, cidade = \"Rio de Janeiro\")"
   ]
  },
  {
   "cell_type": "code",
   "execution_count": 70,
   "metadata": {},
   "outputs": [],
   "source": [
    "#Resultados Salvador\n",
    "PlotarGrafico(ModeloTempMin = ModeloTempMin_Salvador, dataTempMin = dataTempMinSalvador, cidade = \"Salvador\")"
   ]
  },
  {
   "cell_type": "code",
   "execution_count": 71,
   "metadata": {},
   "outputs": [],
   "source": [
    "#Resultados São Luis\n",
    "PlotarGrafico(ModeloTempMin = ModeloTempMin_SaoLuis, dataTempMin = dataTempMinSaoLuis, cidade = \"São Luis\")"
   ]
  },
  {
   "cell_type": "code",
   "execution_count": 72,
   "metadata": {},
   "outputs": [],
   "source": [
    "#Resultados São Paulo\n",
    "PlotarGrafico(ModeloTempMin = ModeloTempMin_SaoPaulo, dataTempMin = dataTempMinSaoPaulo, cidade = \"São Paulo\")"
   ]
  },
  {
   "cell_type": "code",
   "execution_count": 73,
   "metadata": {},
   "outputs": [],
   "source": [
    "#Resultados Teresina\n",
    "PlotarGrafico(ModeloTempMin = ModeloTempMin_Teresina, dataTempMin = dataTempMinTeresina, cidade = \"Teresina\")"
   ]
  },
  {
   "cell_type": "code",
   "execution_count": 74,
   "metadata": {},
   "outputs": [],
   "source": [
    "#Resultados Vitória\n",
    "PlotarGrafico(ModeloTempMin = ModeloTempMin_Vitoria, dataTempMin = dataTempMinVitoria, cidade = \"Vitória\")"
   ]
  }
 ],
 "metadata": {
  "kernelspec": {
   "display_name": "Python 3",
   "language": "python",
   "name": "python3"
  },
  "language_info": {
   "codemirror_mode": {
    "name": "ipython",
    "version": 3
   },
   "file_extension": ".py",
   "mimetype": "text/x-python",
   "name": "python",
   "nbconvert_exporter": "python",
   "pygments_lexer": "ipython3",
   "version": "3.6.8"
  }
 },
 "nbformat": 4,
 "nbformat_minor": 2
}
