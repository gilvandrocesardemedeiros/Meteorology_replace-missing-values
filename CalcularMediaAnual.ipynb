{
 "cells": [
  {
   "cell_type": "code",
   "execution_count": 1,
   "metadata": {},
   "outputs": [],
   "source": [
    "import pandas as pd\n",
    "import matplotlib.pyplot as plt"
   ]
  },
  {
   "cell_type": "code",
   "execution_count": 2,
   "metadata": {},
   "outputs": [],
   "source": [
    "cidades = [\"Aracaju\",\"Belém\",\"Belo Horizonte\",\"Boa Vista\",\"Cuiabá\",\"Curitiba\",\n",
    "                \"Florianópolis\",\"Fortaleza\",\"Goiânia\",\"João Pessoa\",\"Macapá\",\"Maceió\",\n",
    "                \"Manaus\",\"Natal\",\"Palmas\",\"Porto Alegre\",\"Recife\",\"Rio Branco\",\"Rio de Janeiro\",\n",
    "                \"Salvador\",\"São Luis\",\"São Paulo\",\"Teresina\",\"Vitória\"]"
   ]
  },
  {
   "cell_type": "code",
   "execution_count": 3,
   "metadata": {},
   "outputs": [],
   "source": [
    "def CalcMediaAnual(cidade):\n",
    "    dataSet = pd.read_csv(\"Preenchimento-de-falhas/\" + cidade + \".csv\")\n",
    "    medias = pd.DataFrame()\n",
    "    medias[\"Anos\"] = list(range(1980, 2018))\n",
    "    medias[\"TempMaxMedia\"] = 0\n",
    "    medias[\"TempMinMedia\"] = 0\n",
    "    for i, row in medias.iterrows():\n",
    "        medias.loc[i, \"TempMaxMedia\"] = (sum(dataSet[\"TempMaxCorrigida\"].iloc[(12*i):(12*i + 12)]) / 12)\n",
    "        medias.loc[i, \"TempMinMedia\"] = (sum(dataSet[\"TempMinCorrigida\"].iloc[(12*i):(12*i + 12)]) / 12)\n",
    "    medias = medias.set_index(\"Anos\")\n",
    "    medias.to_csv(path_or_buf = \"MediaAnual/\" + cidade + \".csv\", sep=',')"
   ]
  },
  {
   "cell_type": "code",
   "execution_count": 4,
   "metadata": {},
   "outputs": [],
   "source": [
    "def plotarGrafico(cidades):\n",
    "    for i in cidades:\n",
    "        medias = pd.read_csv(\"MediaAnual/\" + i + \".csv\")\n",
    "        plt.plot(medias.index, medias[\"TempMaxMedia\"], label = i)\n",
    "    plt.title(\"Temperatura máxima\")\n",
    "    plt.xlabel(\"Anos\")\n",
    "    plt.ylabel(\"Temperatura máxima\")\n",
    "    plt.legend()\n",
    "    plt.savefig(\"MediaAnual/TempMax\")\n",
    "    plt.close()\n",
    "    for i in cidades:\n",
    "        medias = pd.read_csv(\"MediaAnual/\" + i + \".csv\")\n",
    "        plt.plot(medias.index, medias[\"TempMinMedia\"], label = i)\n",
    "    plt.title(\"Temperatura mínima\")\n",
    "    plt.xlabel(\"Anos\")\n",
    "    plt.ylabel(\"Temperatura mínima\")\n",
    "    plt.legend()\n",
    "    plt.savefig(\"MediaAnual/TempMin\")\n",
    "    plt.close()"
   ]
  },
  {
   "cell_type": "code",
   "execution_count": 5,
   "metadata": {},
   "outputs": [],
   "source": [
    "for i in cidades:\n",
    "    CalcMediaAnual(i)"
   ]
  },
  {
   "cell_type": "code",
   "execution_count": 6,
   "metadata": {},
   "outputs": [],
   "source": [
    "plotarGrafico(cidades)"
   ]
  }
 ],
 "metadata": {
  "kernelspec": {
   "display_name": "Python 3",
   "language": "python",
   "name": "python3"
  },
  "language_info": {
   "codemirror_mode": {
    "name": "ipython",
    "version": 3
   },
   "file_extension": ".py",
   "mimetype": "text/x-python",
   "name": "python",
   "nbconvert_exporter": "python",
   "pygments_lexer": "ipython3",
   "version": "3.6.8"
  }
 },
 "nbformat": 4,
 "nbformat_minor": 2
}
